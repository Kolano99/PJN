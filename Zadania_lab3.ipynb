{
  "nbformat": 4,
  "nbformat_minor": 0,
  "metadata": {
    "kernelspec": {
      "display_name": "Python 3",
      "language": "python",
      "name": "python3"
    },
    "language_info": {
      "codemirror_mode": {
        "name": "ipython",
        "version": 3
      },
      "file_extension": ".py",
      "mimetype": "text/x-python",
      "name": "python",
      "nbconvert_exporter": "python",
      "pygments_lexer": "ipython3",
      "version": "3.6.9"
    },
    "colab": {
      "name": "Zadania_lab3.ipynb",
      "provenance": [],
      "collapsed_sections": [],
      "toc_visible": true
    }
  },
  "cells": [
    {
      "cell_type": "markdown",
      "metadata": {
        "id": "aKOnSMgIfV3X"
      },
      "source": [
        "# Modele językowe - n-gramy \n",
        "\n",
        "---\n",
        "\n",
        "## 1. N-gramy słów w klasyfikacji\n",
        "Poniżej stworzono kod, który przeprowadza klasyfikację dokumentów należących do 4 kategorii. W odróżnieniu do poprzednich zajęć - tu zaproponowano klasyfikator SVC (algorytm SVM, popularna alternatywa dla NaiveBayes), która również świetnie się spisuje w problemach klasyfikacji tekstu.\n",
        "\n",
        "**<span style=\"color: red\">Zadanie 1a (0.5 punktu)</span>** Uruchom kod, przyjrzyj się wygenerowanym wynikom (a najlepiej zachowaj je gdzieś, będą potrzebne). <br/>\n",
        "Zapoznaj się z dokumentacją TfIdfVectorizer, odnajdź opcję uwzględnienia nie tylko pojedynczych słów jako cechy, ale także ich par i **zmodyfikuj poniższy kod tak, aby klasyfikacja uwzględniała zarówno pojedyncze słowa jak i pary (pozostaw parametr max_df=0.1 nienaruszony).** <span style=\"color: red\"> Zmodyfikuj linię 30.</span><br/> <br/>\n",
        "**<span style=\"color: red\">Zadanie 1b (0.5 punktu)</span>** Jak zmieniła się liczba cech po uwzględnieniu tych par? Czy coś się zmieniło w raporcie z klasyfikacji? Uzupełnij odpowiedzi na pytania w komórce poniżej kodu."
      ]
    },
    {
      "cell_type": "code",
      "metadata": {
        "colab": {
          "base_uri": "https://localhost:8080/"
        },
        "id": "mXpKpGf5fV3e",
        "outputId": "4b059451-49d8-432b-883c-30b9af945c08"
      },
      "source": [
        "from sklearn.pipeline import Pipeline\n",
        "from sklearn.svm import SVC\n",
        "from sklearn.feature_extraction.text import TfidfVectorizer\n",
        "from sklearn.metrics import classification_report\n",
        "from sklearn.datasets import fetch_20newsgroups # zbiór danych zawarty w Sklearn, który zawiera dane z 20 grup newsowych\n",
        "import numpy as np\n",
        "\n",
        "# ------------------- WCZYTANIE DANYCH -----------\n",
        "\n",
        "np.random.seed(0) # ustaw seed na 0, aby zapewnić powtarzalność eksperymentu\n",
        "\n",
        "categories = ['sci.space', 'comp.graphics', 'talk.politics.misc', 'comp.sys.mac.hardware'] # kategorie do analizy\n",
        "\n",
        "train = fetch_20newsgroups(subset='train',\n",
        "                                   categories=categories,\n",
        "                                   shuffle=True,\n",
        "                                   random_state=42) # pobieramy zbiór uczący (na nim będziemy trenować) dla wybranych kategorii.\n",
        "    \n",
        "\n",
        "test = fetch_20newsgroups(subset='test',\n",
        "                                  categories=categories,\n",
        "                                  shuffle=True,\n",
        "                                  random_state=42) # pobieramy zbiór testowy (na nim będziemy testować) dla wybranych kategorii\n",
        "\n",
        "# ------------------- STWORZENIE PIPELINE'U -----------\n",
        "    \n",
        "pipeline = Pipeline([             # stwórzmy pipeline surowy tekst -> TFIDF vectorizer -> klasyfikator \n",
        "    ('tfidf', TfidfVectorizer(max_df=0.1, ngram_range=(1, 2))),\n",
        "    ('clf', SVC(C=1.0, kernel='linear')),\n",
        "])\n",
        "\n",
        "# ------------------- TRANSFORMACJA I UCZENIE -----------\n",
        "\n",
        "pipeline.fit(train.data, train.target) # zwektoryzujmy dane i wytrenujmy klasyfikator na zbiorze treningowym\n",
        "\n",
        "\n",
        "print(\"W słowniku znajduje się {n} różnych cech\".format(\n",
        "    n=len(pipeline.named_steps['tfidf'].vocabulary_.keys())\n",
        "))\n",
        "\n",
        "# ------------------- OCENA KLASYFIKATORA -----------\n",
        "print(classification_report(test.target, pipeline.predict(test.data))) # testowanie klasyfikatora - szerokie podsumowanie uwzględniające miary: precision, recall, f1"
      ],
      "execution_count": 4,
      "outputs": [
        {
          "output_type": "stream",
          "text": [
            "W słowniku znajduje się 287718 różnych cech\n",
            "              precision    recall  f1-score   support\n",
            "\n",
            "           0       0.87      0.94      0.91       389\n",
            "           1       0.92      0.94      0.93       385\n",
            "           2       0.95      0.90      0.92       394\n",
            "           3       0.97      0.90      0.93       310\n",
            "\n",
            "    accuracy                           0.92      1478\n",
            "   macro avg       0.93      0.92      0.92      1478\n",
            "weighted avg       0.92      0.92      0.92      1478\n",
            "\n"
          ],
          "name": "stdout"
        }
      ]
    },
    {
      "cell_type": "code",
      "metadata": {
        "collapsed": true,
        "id": "JWPERbR4fV3f"
      },
      "source": [
        "1. O ile zwiększyła się liczba cech w klasyfikatorze? 252944\n",
        "2. Czy precyzja w którejkolwiek klasie wzrosła? w której/których? Tak; 1, 2, 3\n",
        "3. Czy recall w którejkolwiek klasie wzrósł? w której/których? Tak; 0, 1"
      ],
      "execution_count": null,
      "outputs": []
    },
    {
      "cell_type": "markdown",
      "metadata": {
        "id": "2AvapaDnfV3g"
      },
      "source": [
        "## 2. N-gramy liter w klasyfikacji\n",
        "Poza n-gramami stworzonymi z następujących po sobie wyrazów - bardzo często używane są również n-gramy znakowe, stworzone z następujących po sobie liter. <br/><br/>\n",
        "Dla przykładu. wszystkie 3-gramy (trigramy) znakowe z napisu \"Hello world\" to: <br/>\n",
        "\"Hel\", \"ell\", \"llo\", \"lo \", \"o w\", \" wo\", \"wor\", \"orl\", \"rld\". <br/><br/>\n",
        "Do czego mogłaby być użyta taka reprezentacja tekstów? Okazuje się, że całkiem mocno pomaga to w rozwiązywaniiu problemu detekcji języka w którym został zapisany dokument, szczególnie w sytuacji, kiedy teksty są bardzo krótkie (np. tweety, smsy).\n",
        "<br/>\n",
        "Poniżej znajduje się szkielet klasyfikatora rozpoznającego język w którym zapisany jest dokument.\n",
        "Języków jest 6: polski, angielski, niemiecki, francuski, hiszpański i włoski.\n",
        "<br/>\n",
        "**<span style=\"color: red\">Zadanie 2 (1 punkt)</span>**: Przedstawiony klasyfikator jest znanym już z poprzednich przykładów kodem. Waszym zadaniem jest:\n",
        "<ol>\n",
        "    <li>Zapoznanie się dokumentacją Tf-Idf vectorizera, aby znaleźć funkcjonalność, która zamiast całych słów, stworzy cechy na podstawie liter i wykorzystanie tej funkcjonalności w kodzie</li>\n",
        "    <li>Ustawienie takiego zakresu n-gramów, aby zmaksymalizować uzyskany wynik (Oczekiwane 1.0 precyzji i recallu we wszystkich kategoriach przy pozostawieniu wartośi max_features = 300 elementów)</li>\n",
        "    <li>Poprawnie zaklasyfikuje krotki przykład zapisany w linii 43 (Bonjour przypisze do kategorii 'french').</li>\n",
        "</ol>"
      ]
    },
    {
      "cell_type": "code",
      "metadata": {
        "colab": {
          "base_uri": "https://localhost:8080/"
        },
        "id": "AO2JUps9fV3g",
        "outputId": "78689360-4336-4032-bfb9-5d729666c5e5"
      },
      "source": [
        "from sklearn.pipeline import Pipeline\n",
        "from sklearn.feature_extraction.text import TfidfVectorizer\n",
        "from sklearn.linear_model import LogisticRegression\n",
        "from sklearn.preprocessing import StandardScaler\n",
        "from sklearn.metrics import classification_report\n",
        "import pandas\n",
        "import numpy as np\n",
        "\n",
        "# -------------------- FUNKCJE POMOCNICZNE --------\n",
        "\n",
        "# Funkcja mapująca identyfikator liczbowy kategorii na wartość tekstową, np: 0->\"polish\", 1->\"english\"\n",
        "def get_class_name_from_id(ids, mapping):\n",
        "    return [mapping[id] for id in ids]\n",
        "\n",
        "# ------------------- WCZYTANIE DANYCH -----------\n",
        "\n",
        "full_dataset = pandas.read_csv('language_detection_1000.csv', encoding='utf-8') # wczytaj dane z pliku CSV\n",
        "lang_to_id = {'polish': 0, 'english': 1, 'french': 2,\n",
        "              'german': 3, 'italian': 4, 'spanish': 5}\n",
        "id_to_lang = {v: k for k,v in lang_to_id.items()}\n",
        "\n",
        "full_dataset['label_num'] = full_dataset.lang.map(lang_to_id)  # ponieważ nazwy kategorii zapisane są z użyciem stringów: \"ham\"/\"spam\", wykonujemy mapowanie tych wartości na liczby, aby móc wykonać klasyfikację. \n",
        "\n",
        "np.random.seed(0)                                       # ustaw seed na 0, aby zapewnić powtarzalność eksperymentu\n",
        "train_indices = np.random.rand(len(full_dataset)) < 0.7 # wylosuj 70% wierszy, które znajdą się w zbiorze treningowym\n",
        "\n",
        "train = full_dataset[train_indices] # wybierz zbior treningowy (70%)\n",
        "test = full_dataset[~train_indices] # wybierz zbiór testowy (dopełnienie treningowego - 30%)\n",
        "\n",
        "\n",
        "# ------------------- STWORZENIE PIPELINE'U -----------\n",
        "    \n",
        "pipeline = Pipeline([             # stwórzmy pipeline surowy tekst -> TFIDF vectorizer -> klasyfikator \n",
        "    ('tfidf', TfidfVectorizer(max_features=300, analyzer='char', ngram_range=(1, 2))),\n",
        "    ('scaler', StandardScaler(with_mean = False)),\n",
        "    ('clf', LogisticRegression()),\n",
        "])\n",
        "\n",
        "# ------------------- TRANSFORMACJA I UCZENIE -----------\n",
        "\n",
        "pipeline.fit(train['text'], train['label_num']) # zwektoryzujmy dane i wytrenujmy klasyfikator na zbiorze treningowym\n",
        "\n",
        "\n",
        "print(\"Oto kilka przykładowych cech stworzonych przez TfidfVectorizer: {n}\".format(\n",
        "    n=list(pipeline.named_steps['tfidf'].vocabulary_.keys())[:5]))\n",
        "\n",
        "# ------------------- WERYFIKACJA NA KRÓTKIM TEKŚCIE ----\n",
        "\n",
        "text_to_predict = \"Bonjour!\"\n",
        "predicted = pipeline.predict([text_to_predict])\n",
        "print(\"\\n\\nTekst: {t} został zaklasyfikowany jako: {p}\\n\\n\".format(\n",
        "    t=text_to_predict,\n",
        "    p=id_to_lang[predicted[0]]\n",
        "))\n",
        "\n",
        "\n",
        "# ------------------- OCENA KLASYFIKATORA -----------\n",
        "print(classification_report(\n",
        "    get_class_name_from_id(test['label_num'], id_to_lang), \n",
        "    get_class_name_from_id(pipeline.predict(test['text']), id_to_lang)\n",
        "))"
      ],
      "execution_count": 51,
      "outputs": [
        {
          "output_type": "stream",
          "text": [
            "/usr/local/lib/python3.7/dist-packages/sklearn/linear_model/_logistic.py:940: ConvergenceWarning: lbfgs failed to converge (status=1):\n",
            "STOP: TOTAL NO. of ITERATIONS REACHED LIMIT.\n",
            "\n",
            "Increase the number of iterations (max_iter) or scale the data as shown in:\n",
            "    https://scikit-learn.org/stable/modules/preprocessing.html\n",
            "Please also refer to the documentation for alternative solver options:\n",
            "    https://scikit-learn.org/stable/modules/linear_model.html#logistic-regression\n",
            "  extra_warning_msg=_LOGISTIC_SOLVER_CONVERGENCE_MSG)\n"
          ],
          "name": "stderr"
        },
        {
          "output_type": "stream",
          "text": [
            "Oto kilka przykładowych cech stworzonych przez TfidfVectorizer: ['a', 'p', 'e', 'l', 'u']\n",
            "\n",
            "\n",
            "Tekst: Bonjour! został zaklasyfikowany jako: french\n",
            "\n",
            "\n",
            "              precision    recall  f1-score   support\n",
            "\n",
            "     english       1.00      1.00      1.00       303\n",
            "      french       1.00      1.00      1.00       280\n",
            "      german       1.00      1.00      1.00       337\n",
            "     italian       1.00      1.00      1.00       273\n",
            "      polish       1.00      1.00      1.00       291\n",
            "     spanish       1.00      1.00      1.00       299\n",
            "\n",
            "    accuracy                           1.00      1783\n",
            "   macro avg       1.00      1.00      1.00      1783\n",
            "weighted avg       1.00      1.00      1.00      1783\n",
            "\n"
          ],
          "name": "stdout"
        }
      ]
    },
    {
      "cell_type": "markdown",
      "metadata": {
        "id": "3xQebNjWfV3h"
      },
      "source": [
        "Widzimy, że problem jest stosunkowo prosty. Po co zatem używać n-gramów znakowych? Aby zaoszczędzić pamięć i podołać sytuacjom, w których zbiór testowy składa się ze słów, które nie występują w korpusie uczącym. <br/>\n",
        "\n",
        "O ile wszystkich słów w tych 6 językach jest \"30078\", to trigramów znakowych jest już tylko \"15274\", a bigramów - \"2059\". W związku z tym: <ol>\n",
        "<li>Używając n-gramów znakowych często możemy ograniczyć liczbę cech</li>\n",
        "<li>N-gramy znakowe pomogą nam w sytuacjach, kiedy dane słowo nie wystąpiło w tekście uczącym. Jeśli opieramy uczenie na pełnych słowach i cały nasz tekst testowy to niewystępujące w korpusie uczącym - \"bonjour\", wtedy wektor BOW będzie zawierał same zera, przez co będzie miał problem z przydziałem do odpowiedniej klasy. <br/> N-gramy znakowe nawet jeśli nie napotkały danego słowa podczas analizy korpusu, to na podstawie budowy samego słowa są w stanie przewidywać do jakiego języka słowo należy. Np. cokolwiek zawierającego trigram \"żeb\" należeć będzie raczej do języka polskiego.</li>\n",
        "</ol>\n",
        "\n",
        "---\n",
        "\n",
        "### 2a - istotność cech\n",
        "\n",
        "Ponieważ w zadaniu 2 użyliśmy znanego z zajęć z przedmiotu \"Sztuczna Inteligencja\" klasyfikatora liniowego - regresji logistycznej, podejrzeć możemy jakie cechy najsilniej sugerują nam przynależność do danej klasy. Uruchom poniższy kod, aby zobaczyć jakie cechy są najważniejsze dla danych kategorii. Modyfikując parametry TfidfVectorizer możesz zobaczyć jakie słowa/ciągi znaków są najistotniejsze do detekcji danego języka."
      ]
    },
    {
      "cell_type": "code",
      "metadata": {
        "collapsed": true,
        "colab": {
          "base_uri": "https://localhost:8080/"
        },
        "id": "QeKVxhSwfV3h",
        "outputId": "55587209-d4a2-4bb8-8a25-d086ecdeeb26"
      },
      "source": [
        "# Funkcja, z użyciem której możemy ocenić które cechy najsilniej skojarzone są z danymi klasami.\n",
        "# Wyświetli listę słów/n-gramów znakowych, których obecność najsilniej wpływa na przydział do danej klasy\n",
        "def language_indicators(feature_names, feature_importances, id_to_lang):\n",
        "    for i, language in enumerate(feature_importances): # iterujemy po macierzy feature_importances (wymiarów: język x cechy) wierszami (czyli język po języku)\n",
        "        scored_features = list(zip(feature_names, language)) # tworzymy skojarzenie nazw cech z wagami modelu (ponieważ używamy regresji logistycznej - każda cecha (słowo/n-gram) ma swoją wagę, która jest optymalizowana w procesie uczenia! Cechy z wysokimi wagami są ważne dla danej klasy. Każda klasa ma osobny model ze swoimi wagami!)\n",
        "        scored_features = sorted(scored_features, key=lambda x: x[1], reverse=True) # posortujmy cechy skojarzone z wagami malejąco \n",
        "        print(\"W rozpoznaniu języka {lang} najważniejsze cechy to:\".format(\n",
        "            lang=id_to_lang[i]) #zamieńmy identyfikator numeryczny kategorii na nazwę języka\n",
        "        )\n",
        "        for feature, score in scored_features[:5]: # wybierzmy po 5 najważniejszych cech (najwyższe wartości uczonych współczynników)\n",
        "            print(\"\\t'{feature}': {score}\".format(feature=feature, score=score))\n",
        "        \n",
        "\n",
        "# ------------------- WYŚWIETLENIE NAJWAŻNIEJSZYCH CECH DLA KAŻDEJ KATEGORII\n",
        "language_indicators(\n",
        "    pipeline.named_steps['tfidf'].get_feature_names(), # pobierz nazwy cech\n",
        "    pipeline.named_steps['clf'].coef_, # pobierz wyuczone współczynniki (regresja logistyczna to stworzenie modelu opisanego wzorem y = e^(-wx - b), gdzie uczymy się współczynników w. Pole coef_ zawiera te współczynniki dla każdego języka z osobna)\n",
        "    id_to_lang # mapowanie z identyfikatora numerycznego na pełną nazwę języka - zwiększa czytelność wygenerowanego raportu\n",
        ")"
      ],
      "execution_count": 8,
      "outputs": [
        {
          "output_type": "stream",
          "text": [
            "W rozpoznaniu języka polish najważniejsze cechy to:\n",
            "\t'ł': 0.1509707347988361\n",
            "\t'j': 0.135217134997585\n",
            "\t'z': 0.13113468478598367\n",
            "\t'cz': 0.12998982152680838\n",
            "\t'ę': 0.12779596133854795\n",
            "W rozpoznaniu języka english najważniejsze cechy to:\n",
            "\t'th': 0.376347526082581\n",
            "\t' t': 0.33094726830889876\n",
            "\t'd ': 0.2677457916467699\n",
            "\t'y ': 0.23154803165426466\n",
            "\t'ea': 0.2203909880169\n",
            "W rozpoznaniu języka french najważniejsze cechy to:\n",
            "\t'é': 0.35851935737234025\n",
            "\t't ': 0.2634601906714446\n",
            "\t'ce': 0.24955055970457818\n",
            "\t'ou': 0.23153178926514864\n",
            "\t'ai': 0.2205597361992043\n",
            "W rozpoznaniu języka german najważniejsze cechy to:\n",
            "\t'au': 0.23015934671360036\n",
            "\t'ei': 0.21988326812855527\n",
            "\t'ä': 0.2021473849307858\n",
            "\t'ch': 0.20019262819784162\n",
            "\t'er': 0.1820064362862421\n",
            "W rozpoznaniu języka italian najważniejsze cechy to:\n",
            "\t'i ': 0.4198830922519403\n",
            "\t'o ': 0.3320755235972372\n",
            "\t'zi': 0.26568197250067777\n",
            "\t'll': 0.245572454703498\n",
            "\t'tt': 0.24205806003820174\n",
            "W rozpoznaniu języka spanish najważniejsze cechy to:\n",
            "\t'os': 0.2632302780753571\n",
            "\t'ci': 0.25373908963731334\n",
            "\t'ue': 0.24180120588357384\n",
            "\t' e': 0.24102137886117675\n",
            "\t' y': 0.24084198924815345\n"
          ],
          "name": "stdout"
        }
      ]
    },
    {
      "cell_type": "markdown",
      "metadata": {
        "id": "ch6mgJEOfV3i"
      },
      "source": [
        "---\n",
        "\n",
        "## 3. N-gramy słów w generowaniu tekstu\n",
        "\n",
        "Innym, bardzo ciekawym zastosowaniem n-gramów jest możliwość generowania tekstu z użyciem tzw. łańcuchów Markova. Stwórzmy funkcję generującą n-gramy słów, aby później móc ją wykorzystać do tworzenia tekstów.\n",
        "\n",
        "**<span style=\"color: red\">Zadanie 3 (1 punkt)</span>** stwórz funkcję, która wygeneruje n-gramy słów zadanego stopnia n (n_gram_len). Aby podzielić zdanie na słowa nie musisz używać tokenizatora z biblioteki, na potrzeby zadania wystarczy uznać, że spacja oddziela poszczególne słowa.\n",
        "<br/>\n",
        "<br/>\n",
        "<div class=\"alert alert-success\">\n",
        "Oczekiwany rezultat dla zadanych danych: <br/><br/>[['The', 'big', 'brown'], ['big', 'brown', 'fox'], ['brown', 'fox', 'jumped'], ['fox', 'jumped', 'over'], ['jumped', 'over', 'the'], ['over', 'the', 'fence.']]\n",
        "</div>\n",
        "<br/>"
      ]
    },
    {
      "cell_type": "code",
      "metadata": {
        "colab": {
          "base_uri": "https://localhost:8080/"
        },
        "id": "s0FDk3h5fV3i",
        "outputId": "bee91fbf-4be9-4319-dcdb-1efd2eee7f85"
      },
      "source": [
        "def get_word_ngrams(data, n_gram_len): \n",
        "  data = data.split()\n",
        "  return [data[i:i+n_gram_len] for i in range(len(data)-(n_gram_len-1))]\n",
        "print(get_word_ngrams(\"The big brown fox jumped over the fence.\", 3))"
      ],
      "execution_count": 47,
      "outputs": [
        {
          "output_type": "stream",
          "text": [
            "[['The', 'big', 'brown'], ['big', 'brown', 'fox'], ['brown', 'fox', 'jumped'], ['fox', 'jumped', 'over'], ['jumped', 'over', 'the'], ['over', 'the', 'fence.']]\n"
          ],
          "name": "stdout"
        }
      ]
    },
    {
      "cell_type": "markdown",
      "metadata": {
        "id": "KPvW2rNqfV3j"
      },
      "source": [
        "Jeśli udało Ci się napisać funkcję get_word_ngrams - zapoznaj się z poniższym kodem i uruchom go, aby wytworzyć tekst!"
      ]
    },
    {
      "cell_type": "code",
      "metadata": {
        "colab": {
          "base_uri": "https://localhost:8080/"
        },
        "id": "5xyUMBCHfV3j",
        "outputId": "5ddf8164-2947-4b3f-aaa2-ad02e1a90078"
      },
      "source": [
        "from collections import Counter\n",
        "import random\n",
        "import itertools\n",
        "\n",
        "def generate_ngram_markov(n_gram_len):\n",
        "    markov_dict = dict() # stwórz słownik, który wskaże listę dozwolonych słów po zaobserwowanych n-poprzednich słowach.\n",
        "    with open(\"polish_europarl.txt\", 'r') as f: # wczytaj korpus danych\n",
        "        data = f.read().lower()                                           # zamień wszystkie wielkie litery na małe\n",
        "        n_grams = get_word_ngrams(data, n_gram_len)                   # wygeneruj wszystkie n-gramy słów z korpusu\n",
        "        for n_gram in n_grams:                   # dla każdego n-gramu...\n",
        "            context = \" \".join(n_gram[:-1])      # weź wszystkie słowa z n-gramu poza ostatnim i połącz w 1 string spacją\n",
        "            last_word = str(n_gram[-1])          # weź ostatnie słowo n-gramu\n",
        "            \n",
        "            if context not in markov_dict.keys(): # jeśli n-gram ubiedzony o ostatnie słowo nie występuje jeszcze w słowniku\n",
        "                markov_dict[context] = list()     # to dopiszmy go do słownika i stwórzmy mu listę\n",
        "            markov_dict[context].append(last_word) # wiedząc, że ubiedzony n-gram jest w słowniku - dopiszmy ostatnie słowo do listy\n",
        "    \n",
        "    for context in markov_dict.keys():                        # dla każdego kontekstu (ubiedzonego n-gramu)\n",
        "        markov_dict[context] = Counter(markov_dict[context])  # stwórz histogram słów jakie występują w korpusie po tym kontekście\n",
        "    \n",
        "    return markov_dict\n",
        "\n",
        "\n",
        "n_gram_len = 3  # liczba słów do stworznia n-gramu\n",
        "markov_dict = generate_ngram_markov(n_gram_len)  # stworzenie słownika z histogramami słów dla poszczególnych kontekstów\n",
        "\n",
        "text = 'Średnio co dwa' # tekst, od którego zaczniemy generowanie\n",
        "\n",
        "for i in range(500):               # powtórzmy 500 razy ...\n",
        "    text_spl = text.split(\" \")     # podzielmy istniejący tekst po spacji (przeprowadźmy naiwną 'tokenizację')\n",
        "    context = \" \".join(text_spl[-n_gram_len+1:])   # pobierzmy ostatnie n_gram_len - 1 słów\n",
        "    idx = random.randrange(sum(markov_dict[context].values())) # sprawdźmy słowa, które są dozwolone jako następniki naszego kontekstu (context) i wybierzmy taki następnik, który zostanie wylosowany zgodnie z rozkładem stworzonym przez histogram.\n",
        "    new_word = next(itertools.islice(markov_dict[context].elements(), idx, None)) # wybierzmy wylosowane słowo\n",
        "    text = text + \" \" + new_word # doklejmy wylosowane słowo na końcu\n",
        "print(text)"
      ],
      "execution_count": 48,
      "outputs": [
        {
          "output_type": "stream",
          "text": [
            "Średnio co dwa miesiące później. komisja i zainteresowane strony mniej o nich między innymi stosowanie klauzuli społecznej i zagwarantowania, by tak się dzieje? czy tekst dyrektywy pozostawia zbyt wiele przypadków niedostatecznych warunków panujących w więzieniach, to państwa członkowskie dysponujące energią jądrową nie mogą sprostać samodzielnie (starzenie się społeczeństwa, zdrowie, zaopatrzenie w energię, wodę i żywność, zrównoważony rozwój, kreatywność, efektywność - to działania, które podjęliśmy w parlamencie europejskim. kontrola finansowa wykonania budżetu europejskiej agencji praw podstawowych ue. w związku z tym przed podjęciem decyzji jako politycy, ponieślibyśmy porażkę. gdyby tak było, nie byłyby całkowicie uzależnione od decyzji o aresztowaniu. dochodzi tu do odegrania w promowaniu wymiany najlepszych praktyk w tym zakresie jednym z najważniejszych zasad traktatu z lizbony uwzględniają zdecydowanie wyrażony przez unię według rozsądnych stawek. mówię tu o konfrontację polityczną między odpowiedzialnymi i nieodpowiedzialnymi budżetowo posłami. nie chodzi mi tutaj o informacje i analizuje nowe osiągnięcia naukowe, by zidentyfikować oraz ocenić wszelkie potencjalne zagrożenia dla łańcucha pokarmowego. urząd powinien też zapewniać wysoką jakość rocznych sprawozdań z realizacji i z drugim jednocześnie, podczas gdy pojazdy z innych grup politycznych uzgodniło, że nie będą narażeni na wykorzystywanie, szczególnie gdy mowa o pożytku publicznym, rozwoju, spójności, postępie i opiece na etapie przedkomercyjnym, co rozwiązuje problemy, z jakimi problemami mfw może mieć oznakowania \"walijskie”. sprawa nie dotyczy szkocji, gdzie w interesie europejskich obywateli, którzy mogą wykazać się poczuciem odpowiedzialności i dojrzałości, by niezależnie od tego, czy zostały już ustalone przez radę decyzji w sprawie utworzenia \"rejestru służącego przejrzystości” oraz sprawozdaniem sporządzonym przez georgiosa stavrakakisa w sprawie bezpieczeństwa jądrowego; od tego czasu musimy kontynuować naszą pracę, aby utrzymać i poprawić spójność europy i budowania europejskiej solidarności i spójności społecznej. wprowadzające w błąd praktyk handlowych w układzie z schengen, który jest wynikiem kompromisu i z politycznym sprzeciwem ze strony sudańskiej armii okupującej ten region. jeśli program \"mobilna młodzież”, który oczywiście powinien zostać w kolejnym okresie finansowym utrzymany przynajmniej w takiej wysokości, jaką stosuje się zwykłą procedurę ustawodawczą. dlatego komisja konsultuje się na modernizacji rolnictwa, konkurencyjności oraz zdolności innowacyjnych. w trakcie głosowania nad sprawozdaniem parlament odracza decyzję dotyczącą wniosku o ustanowienie pułapu składek netto państw członkowskich krajowych programów reform budżetowych może być zagrożony z powodu wywołania paniki wokół naszej produkcji i utrzymanie jak najniższych cen na etapie rozruchu. zdaniem komisji, stosowanie przez agencję z tytułu vat. wręcz przeciwnie, stanowią one przykład dla reszty regionu i ukazują, co można uczynić? wiemy, że sytuacja w magrebie, potencjał jądrowy iranu, terroryzm, kaukaz, górski karabach, zmiana klimatu i ochrony środowiska były coraz bardziej zglobalizowanym świecie. z perspektywy makroekonomicznej, w celu wyraźnej poprawy działalności drobnych przedsiębiorców, lecz bez uszczerbku dla zasad konkurencji. reforma regulaminu pracowniczego czy naruszenie zasady jednoroczności w odniesieniu do przystosowania się do powstania grupy g-7. powiedział, że w czasie ostatnich prezentacji planów inwestycyjnych utrudnia tworzenie miejsc pracy. niezbędne jest zobowiązanie państw członkowskich odnoszące się do rady w związku z tym w nadchodzącym okresie potrzebują oddzielnej pomocy, o której mowa w strategii europa 2020, do których rozwiązania przygotowuje się do władz austrii o potwierdzenie, że rok 2013 stanowi termin zwolnienia pasma 800 mhz\n"
          ],
          "name": "stdout"
        }
      ]
    },
    {
      "cell_type": "markdown",
      "metadata": {
        "id": "tdV2JXfYfV3j"
      },
      "source": [
        "---\n",
        "\n",
        "## 4. N-gramy znakowe w generowaniu tekstu\n",
        "\n",
        "W bardzo podobny sposób do zadania 3, możemy stworzyć model, który generować będzie tekst literka po literce. <br/>\n",
        "**<span style=\"color: red\">Zadanie 4 (1 punkt)</span>** stwórz funkcję, która wygeneruje n-gramy znakowe zadanego stopnia n (n_gram_len).\n",
        "<br/>\n",
        "<br/>\n",
        "<div class=\"alert alert-success\">\n",
        "Oczekiwany rezultat dla zadanych danych: ['The', 'he ', 'e b', ' bi', 'big', 'ig ', 'g b', ' br', 'bro', 'row', 'own', 'wn ', 'n f', ' fo', 'fox', 'ox ', 'x j', ' ju', 'jum', 'ump', 'mpe', 'ped', 'ed ', 'd o', ' ov', 'ove', 'ver', 'er ', 'r t', ' th', 'the', 'he ', 'e f', ' fe', 'fen', 'enc', 'nce', 'ce.']\n",
        "</div>\n",
        "<br/>"
      ]
    },
    {
      "cell_type": "code",
      "metadata": {
        "colab": {
          "base_uri": "https://localhost:8080/"
        },
        "id": "FSnCyp5hfV3j",
        "outputId": "db92db69-91d6-498d-e928-7921d19f91d2"
      },
      "source": [
        "def get_character_ngrams(data, n_gram_len):\n",
        "  return [data[i:i+n_gram_len] for i in range(len(data)-(n_gram_len-1))]\n",
        "print(get_character_ngrams(\"The big brown fox jumped over the fence.\", 3))"
      ],
      "execution_count": 44,
      "outputs": [
        {
          "output_type": "stream",
          "text": [
            "['The', 'he ', 'e b', ' bi', 'big', 'ig ', 'g b', ' br', 'bro', 'row', 'own', 'wn ', 'n f', ' fo', 'fox', 'ox ', 'x j', ' ju', 'jum', 'ump', 'mpe', 'ped', 'ed ', 'd o', ' ov', 'ove', 'ver', 'er ', 'r t', ' th', 'the', 'he ', 'e f', ' fe', 'fen', 'enc', 'nce', 'ce.']\n"
          ],
          "name": "stdout"
        }
      ]
    },
    {
      "cell_type": "markdown",
      "metadata": {
        "id": "Wn1yn77nfV3k"
      },
      "source": [
        "Po stworzeniu funkcji **get_character_ngrams()** możemy uruchomić generator znakowy."
      ]
    },
    {
      "cell_type": "code",
      "metadata": {
        "colab": {
          "base_uri": "https://localhost:8080/"
        },
        "id": "l63kFplefV3k",
        "outputId": "2c29d1cf-cc1c-43de-899d-681204de49d3"
      },
      "source": [
        "from collections import Counter\n",
        "import random\n",
        "import itertools\n",
        "\n",
        "def generate_ngram_markov(n_gram_len):\n",
        "    markov_dict = dict() # stwórz słownik, który wskaże listę dozwolonych słów po zaobserwowanych n-poprzednich słowach.\n",
        "    with open('pan_tadeusz.txt', 'r') as f: # wczytaj korpus danych\n",
        "        data = f.read().lower()                                           # zamień wszystkie wielkie litery na małe\n",
        "        n_grams = get_character_ngrams(data, n_gram_len)                   # wygeneruj wszystkie n-gramy słów z korpusu\n",
        "        for n_gram in n_grams:                   # dla każdego n-gramu...\n",
        "            context = n_gram[:-1]  # weź wszystkie znaki n-gramu poza ostatnim \n",
        "            last_char = n_gram[-1] # weź ostatni znak n-gramu\n",
        "            if context not in markov_dict.keys(): # jeśli n-gram ubiedzony o ostatni znak nie występuje jeszcze w słowniku\n",
        "                markov_dict[context] = list()     # to dopiszmy go do słownika i stwórzmy mu listę\n",
        "            markov_dict[context].append(last_char) # wiedząc, że ubiedzony n-gram jest w słowniku - dopiszmy ostatni znak do listy\n",
        "    \n",
        "    for context in markov_dict.keys():                        # dla każdego kontekstu (ubiedzonego n-gramu)\n",
        "        markov_dict[context] = Counter(markov_dict[context])  # stwórz histogram liter jakie występują w korpusie po tym kontekście\n",
        "    \n",
        "    return markov_dict\n",
        "\n",
        "\n",
        "text = 'U szlachty' # tekst, od którego zaczniemy generowanie\n",
        "n_gram_len = len(text)  # liczba znaków do stworznia n-gramu\n",
        "markov_dict = generate_ngram_markov(n_gram_len)  # stworzenie słownika z histogramami słów dla poszczególnych kontekstów\n",
        "\n",
        "for i in range(500):               # powtórzmy 500 razy ...\n",
        "    context = text[-n_gram_len+1:]   # pobierzmy ostatnie n_gram_len - 1 słów\n",
        "    idx = random.randrange(sum(markov_dict[context].values())) # sprawdźmy słowa, które są dozwolone jako następniki naszego kontekstu (context) i wybierzmy taki następnik, który zostanie wylosowany zgodnie z rozkładem stworzonym przez histogram.\n",
        "    new_char = next(itertools.islice(markov_dict[context].elements(), idx, None)) # wybierzmy wylosowane słowo\n",
        "    text = text + new_char # doklejmy wylosowany znak na końcu\n",
        "\n",
        "print(text)"
      ],
      "execution_count": 45,
      "outputs": [
        {
          "output_type": "stream",
          "text": [
            "U szlachty. major ku większej ich męce\n",
            "kazał pierwej musisz zamordować!»\n",
            "padła zemdlona,\n",
            "i przysłał mi tu właśnie wtenczas myśleć o sobie. spojrzą, aż tu z pyska\n",
            "wielkiego, czerwone,\n",
            "niby czareczki różnym winem\n",
            "miał coś ważnego zadać: już ksiądz ledwo dyszał,\n",
            "kiedy sędzia przy stole».\n",
            "to rzekłszy, z podkomorzemu,\n",
            "a ręką od ust lekko skinął ku sędziemu pogroził, wojski obiedwie ręce odjąwszy od rogu\n",
            "rozkrzyżowana, z włosami dłuższymi.\n",
            "tuż za dziećmi paw siedział.\n",
            "\n",
            "    po tej protestacja — hrabia pejzażysta\n"
          ],
          "name": "stdout"
        }
      ]
    },
    {
      "cell_type": "markdown",
      "metadata": {
        "id": "EJwXvGlOfV3k"
      },
      "source": [
        "---\n",
        "\n",
        "## 5. Ngramy do generowania tekstu - długość ngramu a jakość tekstu\n",
        "<span style=\"color: red\">**Zadanie 5 (1 punkt)**</span>\n",
        "Obswerując wyniki z zadań 3 i 4 i sprawdzając różne długości n-gramów (znakowych i słów) zastanów się:\n",
        "<ol>\n",
        "<li>Jakie ryzyko w kontekście jakości tekstu niesie ze sobą tworzenie tekstu z bardzo **krótkich** n-gramów?</li>\n",
        "<li>Jakie ryzyko w kontekście jakości tekstu niesie ze sobą tworzenie tekstu z bardzo **długich** n-gramów?</li>\n",
        "</ol>\n",
        "Odpowiedzi zawrzyj w komentarzu poniżej"
      ]
    },
    {
      "cell_type": "code",
      "metadata": {
        "collapsed": true,
        "id": "puHoHx84fV3k"
      },
      "source": [
        "# Zad 5:\n",
        "#  Pytanie 1: Krótkie n-gramy dają bardzo nikły wgląd w konstrukcję języka przez co nie będą go dobrze odzwierciedlać. \n",
        "#  Pytanie 2: Że podczas generacji będzie bardzo mało opcji wyboru, a być może nawet żadnej."
      ],
      "execution_count": null,
      "outputs": []
    },
    {
      "cell_type": "markdown",
      "metadata": {
        "id": "zl08YL0ifV3k"
      },
      "source": [
        "---\n",
        "\n",
        "## 6. Bonus: Prawdopodobieństwo wystąpienia zdania - bez punktów\n",
        "Dodatkowo ciekawym zastosowaniem n-gramów jest również ocena - jak bardzo prawdopodobnym jest wystąpienie danego zdania w rzeczywistości. Kiedy rozwiązujemy zadanie translacji mowy na tekst, spotykamy się z sytuacjami, w których nie do końca wiemy, czy słowo, które zostało wypowiedziane to np. \"morze\" czy \"może\". Model językowy oparty o n-gramy może ocenić szansę wystąpienia danego ciągu wyrazów, a więc również wybrać bardziej prawdopodobny ciąg wyrazów w danym języku. <br/>\n",
        "\n",
        "Biorąc pod uwagę, że zdanie to ciąg wyrazów    $w_1, w_2, w_3, ..., w_n$\n",
        "Możemy poczynić upraszczające założenie, że aktualne słowo zależne jest jedynie od słowa poprzedniego, zatem prawdopodobieństwo wystąpienia zdania $P(sentence) = p(w_1|beginOfSentence)*p(w_2|w_1)*p(w_3|w_2)*...*p(w_n|w_(n-1))$\n",
        "\n",
        "Obliczając prawdopodobieństwa warunkowe, może się okazać, że w testowanym przez nas zdaniu mogą wystąpić dwie problematyczne sytuacje:\n",
        "<ol>\n",
        "    <li>słowo konteksowe $w_c$ ze wzoru $p(w_n|w_c)$ nie występuje w korpusie - bardzo mała szansa jeśli korpus jest wystarczająco duży</li>\n",
        "    <li>słowo następujące po kontekstowym ($w_n$) nie współwystępuje w korpusie ze słowem kontekstowym (więc $p(w_n|w_c) = 0$ - całkiem możliwy stan, dość łatwo można sobie wyobrazić sytuację braku współwystępowania pewnych słów nawet przetwarzając duży korpus</li>\n",
        "</ol>\n",
        "\n",
        "Aby poradzić sobie z sytuacją, w której chcemy aby pewne słowo rozpoczynało/kończyło tekst, możemy dodać sztuczne znaczniki początku (BOS - Begin of Sentence) i końca (EOS - End of Sentence) zdania. Wprowadzając te znaczniki, będziemy mogli obliczyć prawdopodobieństwo wystąpienia słowa, pod warunkiem, że rozpoczyna ono zdanie $p(w_n|BOS)$\n",
        "\n",
        "Poniżej znajduje się kod oceniający prawdopodobieństwo wystąpienia zdań. Widzimy, że jedno z tych zdań ma sensowniejszy tekst i chcielibyśmy, aby komputer był w stanie wybrać sensowniejszą opcję.\n",
        "\n",
        "Problematyczne sytuacje rozwiązane zostały następująco:\n",
        "<ol>\n",
        "<li>Jeśli brak słowa kontekstowego w wygenerowanym modelu - uznaj, że prawdopodobieństwo całego zania wynosi 0</li>\n",
        "<li>Jeśli słowo następujące po kontekstowym nie współwystępuje z kontekstowym - użyj wygładzania aby ustawić prawdopodobieństwo na bardzo małą wartość (ale niezerową)</li>\n",
        "</ol>\n",
        "\n",
        "**Zapoznaj się z kodem i urochom go, tutaj nie trzeba nic zmieniać, to jedynie wizualizacja zastosowania. Uwaga - aby poprawnie oszacować prawdopodobieństwa potrzeba posiadać wykonane zadanie 3 (stworzona funkcja get_word_ngrams)**\n"
      ]
    },
    {
      "cell_type": "code",
      "metadata": {
        "colab": {
          "base_uri": "https://localhost:8080/"
        },
        "id": "7aW2QK66fV3l",
        "outputId": "5409a9a0-d380-4247-f69f-6f7ddac14ead"
      },
      "source": [
        "text1 = \"i heard that the european union is a valuable concept.\" # tekst do oceny\n",
        "text2 = \"i had that the euro bean union is a variable concept.\"  # tekst do oceny\n",
        "\n",
        "from nltk import sent_tokenize                                   # będziemy dzielić na zdania\n",
        "import re                                                        # i czyścić tekst\n",
        "\n",
        "from collections import Counter, defaultdict\n",
        "import random\n",
        "import itertools\n",
        "\n",
        "markov_dict = defaultdict(list)               # słownik zawierający częstości występowania słów w zależności od poprzedzającego je słowa\n",
        "\n",
        "def clean_text(text):\n",
        "    return re.sub(\"[\\n\\t ]+\", \" \", text) # czyszczenie tekstu ze znaków nowej linii, tabulatorów, spacji (wielokrotnych)\n",
        "\n",
        "def make_begin_end_of_sentences(text):\n",
        "    result = \"\"\n",
        "    sentences = sent_tokenize(text)\n",
        "    for sent in sentences:\n",
        "        result += \" <BOS> {s} <EOS> \".format(s=sent) # dla każdego zdania dodajemy specjalne tagi <BOS> = begin of sentence oraz <EOS> - end of sentence\n",
        "    return clean_text(result)\n",
        "\n",
        "def get_sentence_probability(sentence, markov_dict):\n",
        "    sentence = \" <BOS> {s} <EOS> \".format(s=sentence)\n",
        "    sentence = clean_text(sentence)\n",
        "    \n",
        "    sentence = sentence.split(' ')\n",
        "    prob = 1.0\n",
        "    for i in range(len(sentence)):\n",
        "        if i < 1:\n",
        "            continue\n",
        "            \n",
        "        context = sentence[i-1] # słowo poprzedzające\n",
        "        word = sentence[i]      # aktualne słowo\n",
        "        \n",
        "        if context in markov_dict.keys():        # jeśli słowo kontekstowe występuje w modelu - OK\n",
        "            if word in markov_dict[context].keys(): # jeśli słowo 'word' współwystępowało z 'context' w korpusie - obliczmy prawdopodobieństwo tej sytuacji p(wn|wc)\n",
        "                prob *= 1.0* markov_dict[context][word]/sum(markov_dict[context].values())\n",
        "            else:\n",
        "                prob *= 1/(sum(markov_dict[context].values())+1) # smoothing, jeśli dane slowo 'word' nie występowało po słowie 'context' w korpusie, ustalmy wartość prawdopodobieństwa na bardzo neiwielką. \n",
        "    return prob\n",
        "    \n",
        "\n",
        "with open('english_europarl.txt', 'r') as f:\n",
        "    text = clean_text(f.read().lower())\n",
        "    text = make_begin_end_of_sentences(text)\n",
        "    \n",
        "    n_grams = get_word_ngrams(text, 2)  # wygeneruj wszystkie 2-gramy słów z korpusu\n",
        "    for n_gram in n_grams:              # dla każdego n-gramu...\n",
        "        context = n_gram[-2]            # weź przedostatnie słowo jako kontekst\n",
        "        last_word = n_gram[-1]          # weź ostatnie słowo jako kontekst\n",
        "        markov_dict[context].append(last_word) # dopiszmy następniki, które występują w korpusie po kontekście\n",
        "\n",
        "    for context in markov_dict.keys():                        # dla każdego kontekstu\n",
        "        markov_dict[context] = Counter(markov_dict[context])  # stwórz histogram słów jakie występują w korpusie po tym kontekście\n",
        "    \n",
        "    probability_of_sent1 = get_sentence_probability(text1, markov_dict) # wyznacz prawdopodobieństwo wystąpienia text1\n",
        "    probability_of_sent2 = get_sentence_probability(text2, markov_dict) # wyznacz prawdopodobieństwo wystąpienia text2\n",
        "    \n",
        "    print(\"Prawdopodobieństwo wystąpienia zdania 1: {p}\".format(p=get_sentence_probability(text1, markov_dict)))\n",
        "    print(\"Prawdopodobieństwo wystąpienia zdania 2: {p}\".format(p=get_sentence_probability(text2, markov_dict)))"
      ],
      "execution_count": 49,
      "outputs": [
        {
          "output_type": "stream",
          "text": [
            "Prawdopodobieństwo wystąpienia zdania 1: 5.004813141346049e-20\n",
            "Prawdopodobieństwo wystąpienia zdania 2: 5.7541016227754555e-24\n"
          ],
          "name": "stdout"
        }
      ]
    },
    {
      "cell_type": "code",
      "metadata": {
        "collapsed": true,
        "id": "iXsBhFSwfV3l"
      },
      "source": [
        ""
      ],
      "execution_count": null,
      "outputs": []
    }
  ]
}